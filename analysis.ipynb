{
 "cells": [
  {
   "cell_type": "code",
   "execution_count": 1,
   "id": "86743714-f641-489d-84d2-4fa09683ba73",
   "metadata": {},
   "outputs": [],
   "source": [
    "import pandas as pd"
   ]
  },
  {
   "cell_type": "code",
   "execution_count": 2,
   "id": "d7c92d11-83dd-46ef-96b0-7469ef3af115",
   "metadata": {},
   "outputs": [],
   "source": [
    "data = pd.read_csv('dataset.csv')"
   ]
  },
  {
   "cell_type": "code",
   "execution_count": 3,
   "id": "c88ba868-0a60-414c-bb6e-c7b6676ca077",
   "metadata": {},
   "outputs": [
    {
     "data": {
      "text/plain": [
       "Group\n",
       "<class 'str'>    2000\n",
       "Name: count, dtype: int64"
      ]
     },
     "execution_count": 3,
     "metadata": {},
     "output_type": "execute_result"
    }
   ],
   "source": [
    "data.isnull().any()\n",
    "data.dtypes\n",
    "data['Group'].apply(type).value_counts()"
   ]
  },
  {
   "cell_type": "code",
   "execution_count": 4,
   "id": "bb57dc63-3451-4045-bb89-5406495c103f",
   "metadata": {},
   "outputs": [
    {
     "data": {
      "text/plain": [
       "1758"
      ]
     },
     "execution_count": 4,
     "metadata": {},
     "output_type": "execute_result"
    }
   ],
   "source": [
    "data['Converted'].value_counts()[False]"
   ]
  },
  {
   "cell_type": "code",
   "execution_count": 5,
   "id": "82c8a280-ae5f-4073-91a8-310846ced0be",
   "metadata": {},
   "outputs": [],
   "source": [
    "critical_val = 3.841"
   ]
  },
  {
   "cell_type": "code",
   "execution_count": 6,
   "id": "fe8ee3b5-0b6d-492c-b4ce-d03ce3c3ad02",
   "metadata": {},
   "outputs": [
    {
     "data": {
      "text/html": [
       "<div>\n",
       "<style scoped>\n",
       "    .dataframe tbody tr th:only-of-type {\n",
       "        vertical-align: middle;\n",
       "    }\n",
       "\n",
       "    .dataframe tbody tr th {\n",
       "        vertical-align: top;\n",
       "    }\n",
       "\n",
       "    .dataframe thead th {\n",
       "        text-align: right;\n",
       "    }\n",
       "</style>\n",
       "<table border=\"1\" class=\"dataframe\">\n",
       "  <thead>\n",
       "    <tr style=\"text-align: right;\">\n",
       "      <th></th>\n",
       "      <th>User_ID</th>\n",
       "      <th>Group</th>\n",
       "      <th>Converted</th>\n",
       "    </tr>\n",
       "  </thead>\n",
       "  <tbody>\n",
       "    <tr>\n",
       "      <th>0</th>\n",
       "      <td>1</td>\n",
       "      <td>Control</td>\n",
       "      <td>False</td>\n",
       "    </tr>\n",
       "    <tr>\n",
       "      <th>1</th>\n",
       "      <td>2</td>\n",
       "      <td>Treatment</td>\n",
       "      <td>False</td>\n",
       "    </tr>\n",
       "    <tr>\n",
       "      <th>2</th>\n",
       "      <td>3</td>\n",
       "      <td>Control</td>\n",
       "      <td>False</td>\n",
       "    </tr>\n",
       "    <tr>\n",
       "      <th>3</th>\n",
       "      <td>4</td>\n",
       "      <td>Control</td>\n",
       "      <td>False</td>\n",
       "    </tr>\n",
       "    <tr>\n",
       "      <th>4</th>\n",
       "      <td>5</td>\n",
       "      <td>Control</td>\n",
       "      <td>False</td>\n",
       "    </tr>\n",
       "    <tr>\n",
       "      <th>...</th>\n",
       "      <td>...</td>\n",
       "      <td>...</td>\n",
       "      <td>...</td>\n",
       "    </tr>\n",
       "    <tr>\n",
       "      <th>1995</th>\n",
       "      <td>1996</td>\n",
       "      <td>Control</td>\n",
       "      <td>False</td>\n",
       "    </tr>\n",
       "    <tr>\n",
       "      <th>1996</th>\n",
       "      <td>1997</td>\n",
       "      <td>Treatment</td>\n",
       "      <td>False</td>\n",
       "    </tr>\n",
       "    <tr>\n",
       "      <th>1997</th>\n",
       "      <td>1998</td>\n",
       "      <td>Control</td>\n",
       "      <td>False</td>\n",
       "    </tr>\n",
       "    <tr>\n",
       "      <th>1998</th>\n",
       "      <td>1999</td>\n",
       "      <td>Control</td>\n",
       "      <td>False</td>\n",
       "    </tr>\n",
       "    <tr>\n",
       "      <th>1999</th>\n",
       "      <td>2000</td>\n",
       "      <td>Control</td>\n",
       "      <td>False</td>\n",
       "    </tr>\n",
       "  </tbody>\n",
       "</table>\n",
       "<p>2000 rows × 3 columns</p>\n",
       "</div>"
      ],
      "text/plain": [
       "      User_ID      Group  Converted\n",
       "0           1    Control      False\n",
       "1           2  Treatment      False\n",
       "2           3    Control      False\n",
       "3           4    Control      False\n",
       "4           5    Control      False\n",
       "...       ...        ...        ...\n",
       "1995     1996    Control      False\n",
       "1996     1997  Treatment      False\n",
       "1997     1998    Control      False\n",
       "1998     1999    Control      False\n",
       "1999     2000    Control      False\n",
       "\n",
       "[2000 rows x 3 columns]"
      ]
     },
     "execution_count": 6,
     "metadata": {},
     "output_type": "execute_result"
    }
   ],
   "source": [
    "data"
   ]
  },
  {
   "cell_type": "code",
   "execution_count": 7,
   "id": "16229971-a106-46fc-9ef1-322c6eae9f32",
   "metadata": {},
   "outputs": [],
   "source": [
    "control = data[data['Group']=='Control']\n",
    "treatment = data[data['Group'] == 'Treatment']"
   ]
  },
  {
   "cell_type": "code",
   "execution_count": 8,
   "id": "95b1b065-7ff8-4f08-afdc-d80f9e37557e",
   "metadata": {},
   "outputs": [
    {
     "data": {
      "text/html": [
       "<div>\n",
       "<style scoped>\n",
       "    .dataframe tbody tr th:only-of-type {\n",
       "        vertical-align: middle;\n",
       "    }\n",
       "\n",
       "    .dataframe tbody tr th {\n",
       "        vertical-align: top;\n",
       "    }\n",
       "\n",
       "    .dataframe thead th {\n",
       "        text-align: right;\n",
       "    }\n",
       "</style>\n",
       "<table border=\"1\" class=\"dataframe\">\n",
       "  <thead>\n",
       "    <tr style=\"text-align: right;\">\n",
       "      <th></th>\n",
       "      <th>User_ID</th>\n",
       "      <th>Group</th>\n",
       "      <th>Converted</th>\n",
       "    </tr>\n",
       "  </thead>\n",
       "  <tbody>\n",
       "    <tr>\n",
       "      <th>1</th>\n",
       "      <td>2</td>\n",
       "      <td>Treatment</td>\n",
       "      <td>False</td>\n",
       "    </tr>\n",
       "    <tr>\n",
       "      <th>5</th>\n",
       "      <td>6</td>\n",
       "      <td>Treatment</td>\n",
       "      <td>False</td>\n",
       "    </tr>\n",
       "    <tr>\n",
       "      <th>9</th>\n",
       "      <td>10</td>\n",
       "      <td>Treatment</td>\n",
       "      <td>False</td>\n",
       "    </tr>\n",
       "    <tr>\n",
       "      <th>14</th>\n",
       "      <td>15</td>\n",
       "      <td>Treatment</td>\n",
       "      <td>False</td>\n",
       "    </tr>\n",
       "    <tr>\n",
       "      <th>16</th>\n",
       "      <td>17</td>\n",
       "      <td>Treatment</td>\n",
       "      <td>False</td>\n",
       "    </tr>\n",
       "    <tr>\n",
       "      <th>...</th>\n",
       "      <td>...</td>\n",
       "      <td>...</td>\n",
       "      <td>...</td>\n",
       "    </tr>\n",
       "    <tr>\n",
       "      <th>1985</th>\n",
       "      <td>1986</td>\n",
       "      <td>Treatment</td>\n",
       "      <td>False</td>\n",
       "    </tr>\n",
       "    <tr>\n",
       "      <th>1986</th>\n",
       "      <td>1987</td>\n",
       "      <td>Treatment</td>\n",
       "      <td>True</td>\n",
       "    </tr>\n",
       "    <tr>\n",
       "      <th>1987</th>\n",
       "      <td>1988</td>\n",
       "      <td>Treatment</td>\n",
       "      <td>False</td>\n",
       "    </tr>\n",
       "    <tr>\n",
       "      <th>1990</th>\n",
       "      <td>1991</td>\n",
       "      <td>Treatment</td>\n",
       "      <td>False</td>\n",
       "    </tr>\n",
       "    <tr>\n",
       "      <th>1996</th>\n",
       "      <td>1997</td>\n",
       "      <td>Treatment</td>\n",
       "      <td>False</td>\n",
       "    </tr>\n",
       "  </tbody>\n",
       "</table>\n",
       "<p>984 rows × 3 columns</p>\n",
       "</div>"
      ],
      "text/plain": [
       "      User_ID      Group  Converted\n",
       "1           2  Treatment      False\n",
       "5           6  Treatment      False\n",
       "9          10  Treatment      False\n",
       "14         15  Treatment      False\n",
       "16         17  Treatment      False\n",
       "...       ...        ...        ...\n",
       "1985     1986  Treatment      False\n",
       "1986     1987  Treatment       True\n",
       "1987     1988  Treatment      False\n",
       "1990     1991  Treatment      False\n",
       "1996     1997  Treatment      False\n",
       "\n",
       "[984 rows x 3 columns]"
      ]
     },
     "execution_count": 8,
     "metadata": {},
     "output_type": "execute_result"
    }
   ],
   "source": [
    "treatment"
   ]
  },
  {
   "cell_type": "code",
   "execution_count": 9,
   "id": "e20b299c-cc13-4503-9690-e67470848c8e",
   "metadata": {},
   "outputs": [
    {
     "data": {
      "text/html": [
       "<div>\n",
       "<style scoped>\n",
       "    .dataframe tbody tr th:only-of-type {\n",
       "        vertical-align: middle;\n",
       "    }\n",
       "\n",
       "    .dataframe tbody tr th {\n",
       "        vertical-align: top;\n",
       "    }\n",
       "\n",
       "    .dataframe thead th {\n",
       "        text-align: right;\n",
       "    }\n",
       "</style>\n",
       "<table border=\"1\" class=\"dataframe\">\n",
       "  <thead>\n",
       "    <tr style=\"text-align: right;\">\n",
       "      <th></th>\n",
       "      <th>User_ID</th>\n",
       "      <th>Group</th>\n",
       "      <th>Converted</th>\n",
       "    </tr>\n",
       "  </thead>\n",
       "  <tbody>\n",
       "    <tr>\n",
       "      <th>0</th>\n",
       "      <td>1</td>\n",
       "      <td>Control</td>\n",
       "      <td>False</td>\n",
       "    </tr>\n",
       "    <tr>\n",
       "      <th>2</th>\n",
       "      <td>3</td>\n",
       "      <td>Control</td>\n",
       "      <td>False</td>\n",
       "    </tr>\n",
       "    <tr>\n",
       "      <th>3</th>\n",
       "      <td>4</td>\n",
       "      <td>Control</td>\n",
       "      <td>False</td>\n",
       "    </tr>\n",
       "    <tr>\n",
       "      <th>4</th>\n",
       "      <td>5</td>\n",
       "      <td>Control</td>\n",
       "      <td>False</td>\n",
       "    </tr>\n",
       "    <tr>\n",
       "      <th>6</th>\n",
       "      <td>7</td>\n",
       "      <td>Control</td>\n",
       "      <td>False</td>\n",
       "    </tr>\n",
       "    <tr>\n",
       "      <th>...</th>\n",
       "      <td>...</td>\n",
       "      <td>...</td>\n",
       "      <td>...</td>\n",
       "    </tr>\n",
       "    <tr>\n",
       "      <th>1994</th>\n",
       "      <td>1995</td>\n",
       "      <td>Control</td>\n",
       "      <td>False</td>\n",
       "    </tr>\n",
       "    <tr>\n",
       "      <th>1995</th>\n",
       "      <td>1996</td>\n",
       "      <td>Control</td>\n",
       "      <td>False</td>\n",
       "    </tr>\n",
       "    <tr>\n",
       "      <th>1997</th>\n",
       "      <td>1998</td>\n",
       "      <td>Control</td>\n",
       "      <td>False</td>\n",
       "    </tr>\n",
       "    <tr>\n",
       "      <th>1998</th>\n",
       "      <td>1999</td>\n",
       "      <td>Control</td>\n",
       "      <td>False</td>\n",
       "    </tr>\n",
       "    <tr>\n",
       "      <th>1999</th>\n",
       "      <td>2000</td>\n",
       "      <td>Control</td>\n",
       "      <td>False</td>\n",
       "    </tr>\n",
       "  </tbody>\n",
       "</table>\n",
       "<p>1016 rows × 3 columns</p>\n",
       "</div>"
      ],
      "text/plain": [
       "      User_ID    Group  Converted\n",
       "0           1  Control      False\n",
       "2           3  Control      False\n",
       "3           4  Control      False\n",
       "4           5  Control      False\n",
       "6           7  Control      False\n",
       "...       ...      ...        ...\n",
       "1994     1995  Control      False\n",
       "1995     1996  Control      False\n",
       "1997     1998  Control      False\n",
       "1998     1999  Control      False\n",
       "1999     2000  Control      False\n",
       "\n",
       "[1016 rows x 3 columns]"
      ]
     },
     "execution_count": 9,
     "metadata": {},
     "output_type": "execute_result"
    }
   ],
   "source": [
    "control"
   ]
  },
  {
   "cell_type": "code",
   "execution_count": 10,
   "id": "b0b4ed94-fb28-4dde-88f3-eccbc252a9ac",
   "metadata": {},
   "outputs": [],
   "source": [
    "def conversion_counter(data):\n",
    "    results = data['Converted']\n",
    "    success = 0\n",
    "    for i in results:\n",
    "        if i == True:\n",
    "            success += 1\n",
    "    return success  "
   ]
  },
  {
   "cell_type": "code",
   "execution_count": 11,
   "id": "79dbb210-db12-4727-9515-c8911d56ea00",
   "metadata": {},
   "outputs": [],
   "source": [
    "def conversion_rate(data):\n",
    "    dataFrame = data\n",
    "    conversion_rate = (conversion_counter(dataFrame) / len(dataFrame)) * 100\n",
    "    return conversion_rate"
   ]
  },
  {
   "cell_type": "code",
   "execution_count": 14,
   "id": "7dfd4352-4eea-43d3-95e1-4497672c683e",
   "metadata": {},
   "outputs": [],
   "source": [
    "conversion_counter(control)\n",
    "conversion_counter(treatment)\n",
    "non_conversion_control = len(control)-conversion_counter(control)\n",
    "non_conversion_treatment = len(treatment)-conversion_counter(treatment)"
   ]
  },
  {
   "cell_type": "code",
   "execution_count": 15,
   "id": "5da5c6ea-9e60-406f-a150-c68e2dfd5d33",
   "metadata": {},
   "outputs": [],
   "source": [
    "con_treatment = conversion_rate(treatment)\n",
    "con_control = conversion_rate(control)"
   ]
  },
  {
   "cell_type": "code",
   "execution_count": 19,
   "id": "2305760b-5d44-443f-a721-fd385e6b3f54",
   "metadata": {},
   "outputs": [],
   "source": [
    "cnvrted = data['Converted'].value_counts()[True]\n",
    "t_converted =  cnvrted / len(data)\n",
    "expected_conv = t_converted * len(control)\n",
    "expected_non_cov = (1-t_converted)*len(control)"
   ]
  },
  {
   "cell_type": "code",
   "execution_count": 21,
   "id": "757e4fde-602b-4680-be2d-7a25fe4d914d",
   "metadata": {},
   "outputs": [
    {
     "name": "stdout",
     "output_type": "stream",
     "text": [
      "122.93599999999999 893.064\n"
     ]
    }
   ],
   "source": [
    "print(expected_conv, expected_non_cov)"
   ]
  },
  {
   "cell_type": "code",
   "execution_count": 23,
   "id": "abd4b17a-23b5-40bd-a8fb-d4425313cb6c",
   "metadata": {},
   "outputs": [],
   "source": [
    "chi_sqr_stat = [((conversion_counter(control) - expected_conv)**2)/expected_conv, ((conversion_counter(treatment) - expected_conv)**2)/expected_conv, ((non_conversion_control - expected_non_cov)**2)/expected_non_cov, ((non_conversion_treatment - expected_non_cov)**2)/expected_non_cov]"
   ]
  },
  {
   "cell_type": "code",
   "execution_count": 25,
   "id": "01fcda35-3248-4ffc-9587-53a5b80e2aae",
   "metadata": {},
   "outputs": [
    {
     "name": "stdout",
     "output_type": "stream",
     "text": [
      "1.1674156898271932\n"
     ]
    }
   ],
   "source": [
    "print(sum(chi_sqr_stat))"
   ]
  },
  {
   "cell_type": "code",
   "execution_count": null,
   "id": "25e3cc02-afe9-4609-93f6-d00a76763b38",
   "metadata": {},
   "outputs": [],
   "source": []
  }
 ],
 "metadata": {
  "kernelspec": {
   "display_name": "Python 3 (ipykernel)",
   "language": "python",
   "name": "python3"
  },
  "language_info": {
   "codemirror_mode": {
    "name": "ipython",
    "version": 3
   },
   "file_extension": ".py",
   "mimetype": "text/x-python",
   "name": "python",
   "nbconvert_exporter": "python",
   "pygments_lexer": "ipython3",
   "version": "3.12.7"
  }
 },
 "nbformat": 4,
 "nbformat_minor": 5
}
